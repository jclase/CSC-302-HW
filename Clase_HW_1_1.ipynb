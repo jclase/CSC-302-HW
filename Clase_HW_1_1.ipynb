{
  "nbformat": 4,
  "nbformat_minor": 0,
  "metadata": {
    "colab": {
      "provenance": []
    },
    "kernelspec": {
      "name": "python3",
      "display_name": "Python 3"
    },
    "language_info": {
      "name": "python"
    }
  },
  "cells": [
    {
      "cell_type": "code",
      "execution_count": null,
      "metadata": {
        "colab": {
          "base_uri": "https://localhost:8080/"
        },
        "id": "-culFA49kRWv",
        "outputId": "afeca783-d928-4820-de0d-53df7d5c9063"
      },
      "outputs": [
        {
          "output_type": "stream",
          "name": "stdout",
          "text": [
            "Drive already mounted at /content/drive; to attempt to forcibly remount, call drive.mount(\"/content/drive\", force_remount=True).\n",
            "Columns in the dataset:\n",
            "Index(['Gender', 'Event', 'Location', 'Year', 'Medal', 'Name', 'Nationality',\n",
            "       'Result'],\n",
            "      dtype='object')\n",
            "Number of rows: 2394\n",
            "Number of columns: 8\n",
            "\n",
            "Column Data Types:\n",
            "Gender         object\n",
            "Event          object\n",
            "Location       object\n",
            "Year            int64\n",
            "Medal          object\n",
            "Name           object\n",
            "Nationality    object\n",
            "Result         object\n",
            "dtype: object\n",
            "\n",
            "Number of unique cities where matches were held: 23\n",
            "\n",
            "Number of medals won by USA: 638\n",
            "\n",
            "Total number of medals for each nationality:\n",
            "Nationality\n",
            "ALG      9\n",
            "ARG      4\n",
            "AUS     57\n",
            "AUT      4\n",
            "BAH     12\n",
            "      ... \n",
            "URS    131\n",
            "USA    638\n",
            "VEN      2\n",
            "YUG      1\n",
            "ZAM      1\n",
            "Name: Medal, Length: 97, dtype: int64\n"
          ]
        }
      ],
      "source": [
        "import pandas as pd\n",
        "from google.colab import drive\n",
        "drive.mount('/content/drive')\n",
        "file_path = '/content/drive/MyDrive/Colab Notebooks/DATA/olympic_medals.csv'\n",
        "df = pd.read_csv(file_path)\n",
        "print(\"Columns in the dataset:\")\n",
        "print(df.columns)\n",
        "print(f\"Number of rows: {df.shape[0]}\")\n",
        "print(f\"Number of columns: {df.shape[1]}\")\n",
        "print(\"\\nColumn Data Types:\")\n",
        "print(df.dtypes)\n",
        "num_unique_cities = len(df['Location'].unique())\n",
        "print(f\"\\nNumber of unique cities where matches were held: {num_unique_cities}\")\n",
        "usa_medals = df[df['Nationality'] == 'USA'].shape[0]\n",
        "print(f\"\\nNumber of medals won by USA: {usa_medals}\")\n",
        "medals_by_country = df.groupby('Nationality')['Medal'].count()\n",
        "print(\"\\nTotal number of medals for each nationality:\")\n",
        "print(medals_by_country)\n"
      ]
    }
  ]
}