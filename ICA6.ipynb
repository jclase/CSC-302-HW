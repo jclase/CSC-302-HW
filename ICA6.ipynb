{
  "nbformat": 4,
  "nbformat_minor": 0,
  "metadata": {
    "colab": {
      "provenance": [],
      "authorship_tag": "ABX9TyMA1dd0+oeTNqLA5PgfTm8Z",
      "include_colab_link": true
    },
    "kernelspec": {
      "name": "python3",
      "display_name": "Python 3"
    },
    "language_info": {
      "name": "python"
    }
  },
  "cells": [
    {
      "cell_type": "markdown",
      "metadata": {
        "id": "view-in-github",
        "colab_type": "text"
      },
      "source": [
        "<a href=\"https://colab.research.google.com/github/jclase/CSC-302-HW/blob/main/ICA6.ipynb\" target=\"_parent\"><img src=\"https://colab.research.google.com/assets/colab-badge.svg\" alt=\"Open In Colab\"/></a>"
      ]
    },
    {
      "cell_type": "code",
      "execution_count": null,
      "metadata": {
        "colab": {
          "base_uri": "https://localhost:8080/"
        },
        "id": "j6X5oXdUSug2",
        "outputId": "6923aff3-a11f-473a-e881-2ab19d7cb33a"
      },
      "outputs": [
        {
          "output_type": "stream",
          "name": "stdout",
          "text": [
            "        Unnamed: 0  PassengerId    Survived Pclass                     Name  \\\n",
            "count   891.000000   891.000000  891.000000    891                      891   \n",
            "unique         NaN          NaN         NaN      4                      891   \n",
            "top            NaN          NaN         NaN      3  Braund, Mr. Owen Harris   \n",
            "freq           NaN          NaN         NaN    469                        1   \n",
            "mean    445.000000   446.000000    0.383838    NaN                      NaN   \n",
            "std     257.353842   257.353842    0.486592    NaN                      NaN   \n",
            "min       0.000000     1.000000    0.000000    NaN                      NaN   \n",
            "25%     222.500000   223.500000    0.000000    NaN                      NaN   \n",
            "50%     445.000000   446.000000    0.000000    NaN                      NaN   \n",
            "75%     667.500000   668.500000    1.000000    NaN                      NaN   \n",
            "max     890.000000   891.000000    1.000000    NaN                      NaN   \n",
            "\n",
            "         Sex         Age       SibSp       Parch  Ticket        Fare    Cabin  \\\n",
            "count    891  714.000000  891.000000  891.000000     891  891.000000      204   \n",
            "unique     2         NaN         NaN         NaN     681         NaN      147   \n",
            "top     male         NaN         NaN         NaN  347082         NaN  B96 B98   \n",
            "freq     577         NaN         NaN         NaN       7         NaN        4   \n",
            "mean     NaN   29.699118    0.523008    0.381594     NaN   32.204208      NaN   \n",
            "std      NaN   14.526497    1.102743    0.806057     NaN   49.693429      NaN   \n",
            "min      NaN    0.420000    0.000000    0.000000     NaN    0.000000      NaN   \n",
            "25%      NaN   20.125000    0.000000    0.000000     NaN    7.910400      NaN   \n",
            "50%      NaN   28.000000    0.000000    0.000000     NaN   14.454200      NaN   \n",
            "75%      NaN   38.000000    1.000000    0.000000     NaN   31.000000      NaN   \n",
            "max      NaN   80.000000    8.000000    6.000000     NaN  512.329200      NaN   \n",
            "\n",
            "       Embarked  \n",
            "count       889  \n",
            "unique        3  \n",
            "top           S  \n",
            "freq        644  \n",
            "mean        NaN  \n",
            "std         NaN  \n",
            "min         NaN  \n",
            "25%         NaN  \n",
            "50%         NaN  \n",
            "75%         NaN  \n",
            "max         NaN  \n"
          ]
        }
      ],
      "source": [
        "import pandas as pd\n",
        "\n",
        "file_path = \"/content/drive/MyDrive/Colab Notebooks/DATA/titanic.csv\"\n",
        "df = pd.read_csv(file_path)\n",
        "summary = df.describe(include='all')\n",
        "print(summary)\n",
        "df2 = df.dropna(subset=['Age'])\n",
        "younger = df2[(df2['Survived'] == 1) & (df2['Age'] < 30)]\n",
        "older = df2[(df2['Survived'] == 1) & (df2['Age'] >= 30)]\n"
      ]
    },
    {
      "cell_type": "code",
      "source": [
        "from google.colab import drive\n",
        "drive.mount('/content/drive')"
      ],
      "metadata": {
        "colab": {
          "base_uri": "https://localhost:8080/"
        },
        "id": "I3T-pRvVSxlj",
        "outputId": "7c840a74-ea1a-4266-b9c7-96010143a9a5"
      },
      "execution_count": null,
      "outputs": [
        {
          "output_type": "stream",
          "name": "stdout",
          "text": [
            "Mounted at /content/drive\n"
          ]
        }
      ]
    }
  ]
}