{
  "nbformat": 4,
  "nbformat_minor": 0,
  "metadata": {
    "colab": {
      "provenance": []
    },
    "kernelspec": {
      "name": "python3",
      "display_name": "Python 3"
    },
    "language_info": {
      "name": "python"
    }
  },
  "cells": [
    {
      "cell_type": "code",
      "execution_count": 5,
      "metadata": {
        "id": "16KIDNGspttP",
        "colab": {
          "base_uri": "https://localhost:8080/"
        },
        "outputId": "35a92433-5d51-4d18-a1dd-f40048c95155"
      },
      "outputs": [
        {
          "output_type": "stream",
          "name": "stdout",
          "text": [
            "Finished processing 1000 lines.\n",
            "Sample entries from Price dictionary: [('75823', 29.99), ('75822', 19.99), ('75821', 12.99), ('21030', 113.9924), ('21035', 75.9924)]\n",
            "Sample entries from Difficulty dictionary: [('75823', 'Average'), ('75822', 'Easy'), ('75821', 'Easy'), ('21030', 'Average'), ('21035', 'Challenging')]\n"
          ]
        }
      ],
      "source": [
        "import csv\n",
        "\n",
        "Price = {}\n",
        "Difficulty = {}\n",
        "\n",
        "file_path = '/content/drive/MyDrive/Colab Notebooks/DATA/lego_setsHB.csv'  # Use your local path if running elsewhere\n",
        "\n",
        "\n",
        "try:\n",
        "    with open(file_path, mode='r', encoding='utf-8') as file:\n",
        "        reader = csv.reader(file)\n",
        "        header = next(reader)\n",
        "\n",
        "        product_id_index = header.index('prod_id')  # Product ID\n",
        "        price_index = header.index('list_price')  # Price\n",
        "        difficulty_index = header.index('review_difficulty')  # Review Difficulty\n",
        "\n",
        "        for i, row in enumerate(reader):\n",
        "            if i >= 1000:\n",
        "                break\n",
        "\n",
        "            try:\n",
        "                product_id = row[product_id_index]\n",
        "                price = float(row[price_index]) if row[price_index] else None\n",
        "                difficulty = row[difficulty_index] if row[difficulty_index] else None\n",
        "\n",
        "                if product_id:\n",
        "                    if price is not None:\n",
        "                        Price[product_id] = price\n",
        "                    if difficulty is not None:\n",
        "                        Difficulty[product_id] = difficulty\n",
        "            except ValueError as e:\n",
        "                print(f\"Error parsing line {i+1}: {e}\")\n",
        "\n",
        "    print(\"Finished processing 1000 lines.\")\n",
        "    print(f\"Sample entries from Price dictionary: {list(Price.items())[:5]}\")\n",
        "    print(f\"Sample entries from Difficulty dictionary: {list(Difficulty.items())[:5]}\")\n",
        "\n",
        "except FileNotFoundError:\n",
        "    print(\"Error: The file was not found. Please check the file path.\")\n",
        "except Exception as e:\n",
        "    print(f\"Unexpected error: {e}\")\n"
      ]
    }
  ]
}